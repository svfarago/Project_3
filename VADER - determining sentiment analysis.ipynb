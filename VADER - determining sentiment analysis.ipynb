{
 "cells": [
  {
   "cell_type": "code",
   "execution_count": 1,
   "metadata": {},
   "outputs": [],
   "source": [
    "import pandas as pd\n",
    "import numpy as np\n",
    "import nltk"
   ]
  },
  {
   "cell_type": "code",
   "execution_count": 2,
   "metadata": {},
   "outputs": [
    {
     "data": {
      "text/html": [
       "<div>\n",
       "<style scoped>\n",
       "    .dataframe tbody tr th:only-of-type {\n",
       "        vertical-align: middle;\n",
       "    }\n",
       "\n",
       "    .dataframe tbody tr th {\n",
       "        vertical-align: top;\n",
       "    }\n",
       "\n",
       "    .dataframe thead th {\n",
       "        text-align: right;\n",
       "    }\n",
       "</style>\n",
       "<table border=\"1\" class=\"dataframe\">\n",
       "  <thead>\n",
       "    <tr style=\"text-align: right;\">\n",
       "      <th></th>\n",
       "      <th>Id</th>\n",
       "      <th>Contact__c</th>\n",
       "      <th>Case__c</th>\n",
       "      <th>Name</th>\n",
       "      <th>CreatedDate</th>\n",
       "      <th>NPS_Score__c</th>\n",
       "      <th>Additional_Comments__c</th>\n",
       "      <th>NPS_Formula__c</th>\n",
       "      <th>CES_Score__c</th>\n",
       "      <th>What_can_SAI_make_easier_for_you__c</th>\n",
       "      <th>Post_Chat_Score__c</th>\n",
       "    </tr>\n",
       "  </thead>\n",
       "  <tbody>\n",
       "    <tr>\n",
       "      <th>0</th>\n",
       "      <td>a3I0W0000027NroUAE</td>\n",
       "      <td>0030W00003RGqeEQAT</td>\n",
       "      <td>5000W000019hyU1QAI</td>\n",
       "      <td>GetFeedback Survey Response: Net Promoter Score</td>\n",
       "      <td>1/11/2018 18:13</td>\n",
       "      <td>10.0</td>\n",
       "      <td>NaN</td>\n",
       "      <td>1</td>\n",
       "      <td>NaN</td>\n",
       "      <td>NaN</td>\n",
       "      <td>NaN</td>\n",
       "    </tr>\n",
       "    <tr>\n",
       "      <th>1</th>\n",
       "      <td>a3I0W0000027NrtUAE</td>\n",
       "      <td>0030W00003RGiwkQAD</td>\n",
       "      <td>5000W000019hl5eQAA</td>\n",
       "      <td>GetFeedback Survey Response: Net Promoter Score</td>\n",
       "      <td>1/11/2018 18:14</td>\n",
       "      <td>10.0</td>\n",
       "      <td>Very satisfying experience</td>\n",
       "      <td>1</td>\n",
       "      <td>NaN</td>\n",
       "      <td>NaN</td>\n",
       "      <td>NaN</td>\n",
       "    </tr>\n",
       "    <tr>\n",
       "      <th>2</th>\n",
       "      <td>a3I0W0000027NtYUAU</td>\n",
       "      <td>0030W00003Rtvj6QAB</td>\n",
       "      <td>5000W000019hyW7QAI</td>\n",
       "      <td>GetFeedback Survey Response: Net Promoter Score</td>\n",
       "      <td>1/12/2018 1:44</td>\n",
       "      <td>8.0</td>\n",
       "      <td>The support responses were very quick.</td>\n",
       "      <td>0</td>\n",
       "      <td>NaN</td>\n",
       "      <td>NaN</td>\n",
       "      <td>NaN</td>\n",
       "    </tr>\n",
       "    <tr>\n",
       "      <th>3</th>\n",
       "      <td>a3I0W0000027NtdUAE</td>\n",
       "      <td>003d0000030krO7AAI</td>\n",
       "      <td>5000W000019hyCqQAI</td>\n",
       "      <td>GetFeedback Survey Response: Net Promoter Score</td>\n",
       "      <td>1/12/2018 12:14</td>\n",
       "      <td>10.0</td>\n",
       "      <td>NaN</td>\n",
       "      <td>1</td>\n",
       "      <td>NaN</td>\n",
       "      <td>NaN</td>\n",
       "      <td>NaN</td>\n",
       "    </tr>\n",
       "    <tr>\n",
       "      <th>4</th>\n",
       "      <td>a3I0W0000027NtiUAE</td>\n",
       "      <td>0030W00003QF6L1QAL</td>\n",
       "      <td>5000W000019i11uQAA</td>\n",
       "      <td>GetFeedback Survey Response: Net Promoter Score</td>\n",
       "      <td>1/12/2018 15:55</td>\n",
       "      <td>10.0</td>\n",
       "      <td>NaN</td>\n",
       "      <td>1</td>\n",
       "      <td>NaN</td>\n",
       "      <td>NaN</td>\n",
       "      <td>NaN</td>\n",
       "    </tr>\n",
       "  </tbody>\n",
       "</table>\n",
       "</div>"
      ],
      "text/plain": [
       "                   Id          Contact__c             Case__c  \\\n",
       "0  a3I0W0000027NroUAE  0030W00003RGqeEQAT  5000W000019hyU1QAI   \n",
       "1  a3I0W0000027NrtUAE  0030W00003RGiwkQAD  5000W000019hl5eQAA   \n",
       "2  a3I0W0000027NtYUAU  0030W00003Rtvj6QAB  5000W000019hyW7QAI   \n",
       "3  a3I0W0000027NtdUAE  003d0000030krO7AAI  5000W000019hyCqQAI   \n",
       "4  a3I0W0000027NtiUAE  0030W00003QF6L1QAL  5000W000019i11uQAA   \n",
       "\n",
       "                                              Name      CreatedDate  \\\n",
       "0  GetFeedback Survey Response: Net Promoter Score  1/11/2018 18:13   \n",
       "1  GetFeedback Survey Response: Net Promoter Score  1/11/2018 18:14   \n",
       "2  GetFeedback Survey Response: Net Promoter Score   1/12/2018 1:44   \n",
       "3  GetFeedback Survey Response: Net Promoter Score  1/12/2018 12:14   \n",
       "4  GetFeedback Survey Response: Net Promoter Score  1/12/2018 15:55   \n",
       "\n",
       "   NPS_Score__c                  Additional_Comments__c  NPS_Formula__c  \\\n",
       "0          10.0                                     NaN               1   \n",
       "1          10.0              Very satisfying experience               1   \n",
       "2           8.0  The support responses were very quick.               0   \n",
       "3          10.0                                     NaN               1   \n",
       "4          10.0                                     NaN               1   \n",
       "\n",
       "   CES_Score__c What_can_SAI_make_easier_for_you__c  Post_Chat_Score__c  \n",
       "0           NaN                                 NaN                 NaN  \n",
       "1           NaN                                 NaN                 NaN  \n",
       "2           NaN                                 NaN                 NaN  \n",
       "3           NaN                                 NaN                 NaN  \n",
       "4           NaN                                 NaN                 NaN  "
      ]
     },
     "execution_count": 2,
     "metadata": {},
     "output_type": "execute_result"
    }
   ],
   "source": [
    "#Had issues with columns data type: 'float object is not iterable'\n",
    "filepath = ('Sentiment Example_Vader-NLTK/2021 02 25 - Sentiment Analysis challenge NPS Feedback dataset.csv')\n",
    "data = pd.read_csv(filepath)\n",
    "#                    encoding = \"ISO-8859-1\", dtype={'text':str})\n",
    "data.head()"
   ]
  },
  {
   "cell_type": "code",
   "execution_count": 3,
   "metadata": {},
   "outputs": [],
   "source": [
    "#Import Sentiment Analyzer via Vader\n",
    "from vaderSentiment.vaderSentiment import SentimentIntensityAnalyzer"
   ]
  },
  {
   "cell_type": "code",
   "execution_count": 6,
   "metadata": {},
   "outputs": [],
   "source": [
    "# function to print sentiments\n",
    "# of the sentence.\n",
    "def sentiment_scores(data):\n",
    "  \n",
    "    # Create a SentimentIntensityAnalyzer object.\n",
    "    sid_obj = SentimentIntensityAnalyzer()\n",
    "  \n",
    "    # polarity_scores method of SentimentIntensityAnalyzer\n",
    "    # oject gives a sentiment dictionary.\n",
    "    # which contains pos, neg, neu, and compound scores.\n",
    "    sentiment_dict = sid_obj.polarity_scores(data)\n",
    "      \n",
    "    print(\"Overall sentiment dictionary is : \", sentiment_dict)\n",
    "    print(\"sentence was rated as \", sentiment_dict['neg']*100, \"% Negative\")\n",
    "    print(\"sentence was rated as \", sentiment_dict['neu']*100, \"% Neutral\")\n",
    "    print(\"sentence was rated as \", sentiment_dict['pos']*100, \"% Positive\")\n",
    "  \n",
    "    print(\"Sentence Overall Rated As\", end = \" \")\n",
    "  \n",
    "    # decide sentiment as positive, negative and neutral\n",
    "    if sentiment_dict['compound'] >= 0.05 :\n",
    "        print(\"Positive\")\n",
    "  \n",
    "    elif sentiment_dict['compound'] <= - 0.05 :\n",
    "        print(\"Negative\")\n",
    "  \n",
    "    else :\n",
    "        print(\"Neutral\")"
   ]
  },
  {
   "cell_type": "code",
   "execution_count": 7,
   "metadata": {},
   "outputs": [
    {
     "name": "stdout",
     "output_type": "stream",
     "text": [
      "\n",
      "1st statement :\n"
     ]
    },
    {
     "ename": "TypeError",
     "evalue": "can only concatenate str (not \"float\") to str",
     "output_type": "error",
     "traceback": [
      "\u001b[1;31m---------------------------------------------------------------------------\u001b[0m",
      "\u001b[1;31mTypeError\u001b[0m                                 Traceback (most recent call last)",
      "\u001b[1;32m<ipython-input-7-be8a69c138ac>\u001b[0m in \u001b[0;36m<module>\u001b[1;34m\u001b[0m\n\u001b[0;32m      6\u001b[0m \u001b[1;33m\u001b[0m\u001b[0m\n\u001b[0;32m      7\u001b[0m     \u001b[1;31m# function calling\u001b[0m\u001b[1;33m\u001b[0m\u001b[1;33m\u001b[0m\u001b[1;33m\u001b[0m\u001b[0m\n\u001b[1;32m----> 8\u001b[1;33m     \u001b[0msentiment_scores\u001b[0m\u001b[1;33m(\u001b[0m\u001b[0msentence\u001b[0m\u001b[1;33m)\u001b[0m\u001b[1;33m\u001b[0m\u001b[1;33m\u001b[0m\u001b[0m\n\u001b[0m\u001b[0;32m      9\u001b[0m \u001b[1;33m\u001b[0m\u001b[0m\n\u001b[0;32m     10\u001b[0m \u001b[1;31m#     print(\"\\n2nd Statement :\")\u001b[0m\u001b[1;33m\u001b[0m\u001b[1;33m\u001b[0m\u001b[1;33m\u001b[0m\u001b[0m\n",
      "\u001b[1;32m<ipython-input-6-7f28c17340ba>\u001b[0m in \u001b[0;36msentiment_scores\u001b[1;34m(data)\u001b[0m\n\u001b[0;32m      9\u001b[0m     \u001b[1;31m# oject gives a sentiment dictionary.\u001b[0m\u001b[1;33m\u001b[0m\u001b[1;33m\u001b[0m\u001b[1;33m\u001b[0m\u001b[0m\n\u001b[0;32m     10\u001b[0m     \u001b[1;31m# which contains pos, neg, neu, and compound scores.\u001b[0m\u001b[1;33m\u001b[0m\u001b[1;33m\u001b[0m\u001b[1;33m\u001b[0m\u001b[0m\n\u001b[1;32m---> 11\u001b[1;33m     \u001b[0msentiment_dict\u001b[0m \u001b[1;33m=\u001b[0m \u001b[0msid_obj\u001b[0m\u001b[1;33m.\u001b[0m\u001b[0mpolarity_scores\u001b[0m\u001b[1;33m(\u001b[0m\u001b[0mdata\u001b[0m\u001b[1;33m)\u001b[0m\u001b[1;33m\u001b[0m\u001b[1;33m\u001b[0m\u001b[0m\n\u001b[0m\u001b[0;32m     12\u001b[0m \u001b[1;33m\u001b[0m\u001b[0m\n\u001b[0;32m     13\u001b[0m     \u001b[0mprint\u001b[0m\u001b[1;33m(\u001b[0m\u001b[1;34m\"Overall sentiment dictionary is : \"\u001b[0m\u001b[1;33m,\u001b[0m \u001b[0msentiment_dict\u001b[0m\u001b[1;33m)\u001b[0m\u001b[1;33m\u001b[0m\u001b[1;33m\u001b[0m\u001b[0m\n",
      "\u001b[1;32m~\\anaconda3\\lib\\site-packages\\vaderSentiment\\vaderSentiment.py\u001b[0m in \u001b[0;36mpolarity_scores\u001b[1;34m(self, text)\u001b[0m\n\u001b[0;32m    248\u001b[0m                 \u001b[0mprev_space\u001b[0m \u001b[1;33m=\u001b[0m \u001b[1;32mFalse\u001b[0m\u001b[1;33m\u001b[0m\u001b[1;33m\u001b[0m\u001b[0m\n\u001b[0;32m    249\u001b[0m             \u001b[1;32melse\u001b[0m\u001b[1;33m:\u001b[0m\u001b[1;33m\u001b[0m\u001b[1;33m\u001b[0m\u001b[0m\n\u001b[1;32m--> 250\u001b[1;33m                 \u001b[0mtext_no_emoji\u001b[0m \u001b[1;33m+=\u001b[0m \u001b[0mchr\u001b[0m\u001b[1;33m\u001b[0m\u001b[1;33m\u001b[0m\u001b[0m\n\u001b[0m\u001b[0;32m    251\u001b[0m                 \u001b[0mprev_space\u001b[0m \u001b[1;33m=\u001b[0m \u001b[0mchr\u001b[0m \u001b[1;33m==\u001b[0m \u001b[1;34m' '\u001b[0m\u001b[1;33m\u001b[0m\u001b[1;33m\u001b[0m\u001b[0m\n\u001b[0;32m    252\u001b[0m         \u001b[0mtext\u001b[0m \u001b[1;33m=\u001b[0m \u001b[0mtext_no_emoji\u001b[0m\u001b[1;33m.\u001b[0m\u001b[0mstrip\u001b[0m\u001b[1;33m(\u001b[0m\u001b[1;33m)\u001b[0m\u001b[1;33m\u001b[0m\u001b[1;33m\u001b[0m\u001b[0m\n",
      "\u001b[1;31mTypeError\u001b[0m: can only concatenate str (not \"float\") to str"
     ]
    }
   ],
   "source": [
    "# Driver code\n",
    "if __name__ == \"__main__\" :\n",
    "  \n",
    "    print(\"\\n1st statement :\")\n",
    "    sentence = data['What_can_SAI_make_easier_for_you__c']\n",
    "  \n",
    "    # function calling\n",
    "    sentiment_scores(sentence)\n",
    "  \n",
    "#     print(\"\\n2nd Statement :\")\n",
    "#     sentence = \"study is going on as usual\"\n",
    "#     sentiment_scores(sentence)\n",
    "  \n",
    "#     print(\"\\n3rd Statement :\")\n",
    "#     sentence = \"I am vey sad today.\"\n",
    "#     sentiment_scores(sentence)"
   ]
  },
  {
   "cell_type": "code",
   "execution_count": null,
   "metadata": {},
   "outputs": [],
   "source": []
  }
 ],
 "metadata": {
  "hide_input": false,
  "kernelspec": {
   "display_name": "Python 3",
   "language": "python",
   "name": "python3"
  },
  "language_info": {
   "codemirror_mode": {
    "name": "ipython",
    "version": 3
   },
   "file_extension": ".py",
   "mimetype": "text/x-python",
   "name": "python",
   "nbconvert_exporter": "python",
   "pygments_lexer": "ipython3",
   "version": "3.8.3"
  },
  "varInspector": {
   "cols": {
    "lenName": 16,
    "lenType": 16,
    "lenVar": 40
   },
   "kernels_config": {
    "python": {
     "delete_cmd_postfix": "",
     "delete_cmd_prefix": "del ",
     "library": "var_list.py",
     "varRefreshCmd": "print(var_dic_list())"
    },
    "r": {
     "delete_cmd_postfix": ") ",
     "delete_cmd_prefix": "rm(",
     "library": "var_list.r",
     "varRefreshCmd": "cat(var_dic_list()) "
    }
   },
   "types_to_exclude": [
    "module",
    "function",
    "builtin_function_or_method",
    "instance",
    "_Feature"
   ],
   "window_display": false
  }
 },
 "nbformat": 4,
 "nbformat_minor": 4
}
